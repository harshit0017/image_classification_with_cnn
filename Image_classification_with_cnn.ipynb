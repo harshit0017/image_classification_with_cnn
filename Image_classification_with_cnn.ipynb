{
  "nbformat": 4,
  "nbformat_minor": 0,
  "metadata": {
    "colab": {
      "provenance": [],
      "gpuType": "T4"
    },
    "kernelspec": {
      "name": "python3",
      "display_name": "Python 3"
    },
    "language_info": {
      "name": "python"
    },
    "accelerator": "GPU"
  },
  "cells": [
    {
      "cell_type": "code",
      "execution_count": 2,
      "metadata": {
        "id": "3NHY0RBtVHCj"
      },
      "outputs": [],
      "source": [
        "import tensorflow as tf"
      ]
    },
    {
      "cell_type": "code",
      "source": [
        "from tensorflow.keras.models import Sequential"
      ],
      "metadata": {
        "id": "Sos4N3LpVUh-"
      },
      "execution_count": 3,
      "outputs": []
    },
    {
      "cell_type": "code",
      "source": [
        "from tensorflow.keras import datasets"
      ],
      "metadata": {
        "id": "fm2rjyTlVaF2"
      },
      "execution_count": 4,
      "outputs": []
    },
    {
      "cell_type": "code",
      "source": [
        "from tensorflow.keras.layers import Conv2D, MaxPooling2D, Dense, Flatten"
      ],
      "metadata": {
        "id": "lRvoxfG5WJdX"
      },
      "execution_count": 5,
      "outputs": []
    },
    {
      "cell_type": "code",
      "source": [
        "import matplotlib.pyplot as plt"
      ],
      "metadata": {
        "id": "0xjNPL2vXE_3"
      },
      "execution_count": 6,
      "outputs": []
    },
    {
      "cell_type": "code",
      "source": [
        "(X_train,Y_train),(X_test,Y_test) = datasets.cifar10.load_data()"
      ],
      "metadata": {
        "id": "MnzYWZMDWSzv"
      },
      "execution_count": 7,
      "outputs": []
    },
    {
      "cell_type": "code",
      "source": [
        "X_train.shape"
      ],
      "metadata": {
        "colab": {
          "base_uri": "https://localhost:8080/"
        },
        "id": "p5tw0LODW0AW",
        "outputId": "d105d739-9acb-4055-9856-e7ddb4d1e068"
      },
      "execution_count": 8,
      "outputs": [
        {
          "output_type": "execute_result",
          "data": {
            "text/plain": [
              "(50000, 32, 32, 3)"
            ]
          },
          "metadata": {},
          "execution_count": 8
        }
      ]
    },
    {
      "cell_type": "code",
      "source": [
        "plt.figure(figsize=(2,2))\n",
        "plt.imshow(X_train[0])\n",
        "plt.show()"
      ],
      "metadata": {
        "colab": {
          "base_uri": "https://localhost:8080/",
          "height": 217
        },
        "id": "9DNm_l4HW-7I",
        "outputId": "0504ef9a-e45a-4e64-9de5-e7c53ce3f1f3"
      },
      "execution_count": 9,
      "outputs": [
        {
          "output_type": "display_data",
          "data": {
            "text/plain": [
              "<Figure size 200x200 with 1 Axes>"
            ],
            "image/png": "[encoded data removed]"
          },
          "metadata": {}
        }
      ]
    },
    {
      "cell_type": "code",
      "source": [
        "#normalizing the. input\n",
        "X_train= X_train/ 255.0\n",
        "X_test= X_test/ 255.0"
      ],
      "metadata": {
        "id": "2tpVqioNcRZU"
      },
      "execution_count": 10,
      "outputs": []
    },
    {
      "cell_type": "code",
      "source": [
        "# size of image after conv layer = n-f+1   where n is original size f is the kernel_size here no padding is done\n",
        "# with padding size is (n+2p-f+1)/s.  s= stride , p=padding"
      ],
      "metadata": {
        "id": "ZOzDRrCqmc4D"
      },
      "execution_count": 11,
      "outputs": []
    },
    {
      "cell_type": "code",
      "source": [
        "# since we are facing overfitting problem we use regularisation\n",
        "from tensorflow.keras.regularizers import l2"
      ],
      "metadata": {
        "id": "RuTa0JVMqxoD"
      },
      "execution_count": 12,
      "outputs": []
    },
    {
      "cell_type": "code",
      "source": [
        "from tensorflow.keras.layers import BatchNormalization, Dropout"
      ],
      "metadata": {
        "id": "YWwcX5R-x6f1"
      },
      "execution_count": 24,
      "outputs": []
    },
    {
      "cell_type": "markdown",
      "source": [
        "# Size after max pooling (f X f)\n",
        "If you use \"valid\" padding (no padding):\n",
        "\n",
        "New Height (H_out) = (H - F) / stride + 1\n",
        "New Width (W_out) = (W - F) / stride + 1"
      ],
      "metadata": {
        "id": "C2hpLY_knV0G"
      }
    },
    {
      "cell_type": "code",
      "source": [
        "#making the cnn\n",
        "cnn = Sequential([\n",
        "    Conv2D(filters=32, kernel_size=(3, 3), activation='relu', input_shape=(32, 32, 3), padding='same',kernel_regularizer=l2(0.01)),  # Output size: (32, 32, 16)\n",
        "    BatchNormalization(),\n",
        "    MaxPooling2D((2, 2)),  # Output size: (16, 16, 16)\n",
        "    Conv2D(filters=64, kernel_size=(3, 3), activation='relu', padding='same',kernel_regularizer=l2(0.01)),  # Output size: (16, 16, 32)\n",
        "    BatchNormalization(),\n",
        "    MaxPooling2D((2, 2)),  # Output size: (8, 8, 32)\n",
        "\n",
        "    Conv2D(filters=64, kernel_size=(3, 3), activation='relu', padding='same'),  # Output size: (8, 8, 64)\n",
        "    MaxPooling2D((2, 2)),  # Output size: (4, 4, 64)\n",
        "\n",
        "    Flatten(),\n",
        "    Dense(64, activation='relu'),\n",
        "    Dropout(0.5),\n",
        "    Dense(10, activation='softmax')\n",
        "])"
      ],
      "metadata": {
        "id": "04khRFHVXDHf"
      },
      "execution_count": 29,
      "outputs": []
    },
    {
      "cell_type": "code",
      "source": [
        "from tensorflow.keras.optimizers import Adagrad\n",
        "\n",
        "# Create an Adam optimizer with the desired learning rate\n",
        "opt = Adagrad(learning_rate=0.001)\n",
        "\n",
        "# Compile the model with the optimizer\n",
        "cnn.compile(optimizer=opt, loss='sparse_categorical_crossentropy', metrics=['accuracy'])\n"
      ],
      "metadata": {
        "id": "5FJMzYyPaiLU"
      },
      "execution_count": 34,
      "outputs": []
    },
    {
      "cell_type": "markdown",
      "source": [],
      "metadata": {
        "id": "tgB32331ygA4"
      }
    },
    {
      "cell_type": "code",
      "source": [
        "cnn.fit(X_train,Y_train,epochs=100, batch_size=64)"
      ],
      "metadata": {
        "colab": {
          "base_uri": "https://localhost:8080/"
        },
        "id": "cfp7xkMwaZY-",
        "outputId": "9a9fd782-a9df-4969-9d0d-a39c721200e7"
      },
      "execution_count": 35,
      "outputs": [
        {
          "output_type": "stream",
          "name": "stdout",
          "text": [
            "Epoch 1/100\n",
            "782/782 [==============================] - 6s 5ms/step - loss: 0.4292 - accuracy: 0.8882\n",
            "Epoch 2/100\n",
            "782/782 [==============================] - 5s 6ms/step - loss: 0.3942 - accuracy: 0.8985\n",
            "Epoch 3/100\n",
            "782/782 [==============================] - 4s 5ms/step - loss: 0.3860 - accuracy: 0.9023\n",
            "Epoch 4/100\n",
            "782/782 [==============================] - 4s 5ms/step - loss: 0.3758 - accuracy: 0.9048\n",
            "Epoch 5/100\n",
            "782/782 [==============================] - 5s 6ms/step - loss: 0.3718 - accuracy: 0.9060\n",
            "Epoch 6/100\n",
            "782/782 [==============================] - 4s 6ms/step - loss: 0.3642 - accuracy: 0.9083\n",
            "Epoch 7/100\n",
            "782/782 [==============================] - 4s 6ms/step - loss: 0.3612 - accuracy: 0.9082\n",
            "Epoch 8/100\n",
            "782/782 [==============================] - 4s 6ms/step - loss: 0.3616 - accuracy: 0.9084\n",
            "Epoch 9/100\n",
            "782/782 [==============================] - 4s 5ms/step - loss: 0.3584 - accuracy: 0.9070\n",
            "Epoch 10/100\n",
            "782/782 [==============================] - 4s 5ms/step - loss: 0.3499 - accuracy: 0.9123\n",
            "Epoch 11/100\n",
            "782/782 [==============================] - 4s 6ms/step - loss: 0.3508 - accuracy: 0.9114\n",
            "Epoch 12/100\n",
            "782/782 [==============================] - 4s 5ms/step - loss: 0.3446 - accuracy: 0.9130\n",
            "Epoch 13/100\n",
            "782/782 [==============================] - 4s 5ms/step - loss: 0.3427 - accuracy: 0.9137\n",
            "Epoch 14/100\n",
            "782/782 [==============================] - 5s 6ms/step - loss: 0.3482 - accuracy: 0.9096\n",
            "Epoch 15/100\n",
            "782/782 [==============================] - 4s 5ms/step - loss: 0.3421 - accuracy: 0.9127\n",
            "Epoch 16/100\n",
            "782/782 [==============================] - 4s 5ms/step - loss: 0.3401 - accuracy: 0.9145\n",
            "Epoch 17/100\n",
            "782/782 [==============================] - 4s 6ms/step - loss: 0.3388 - accuracy: 0.9142\n",
            "Epoch 18/100\n",
            "782/782 [==============================] - 4s 5ms/step - loss: 0.3338 - accuracy: 0.9160\n",
            "Epoch 19/100\n",
            "782/782 [==============================] - 4s 6ms/step - loss: 0.3356 - accuracy: 0.9150\n",
            "Epoch 20/100\n",
            "782/782 [==============================] - 4s 6ms/step - loss: 0.3337 - accuracy: 0.9148\n",
            "Epoch 21/100\n",
            "782/782 [==============================] - 4s 5ms/step - loss: 0.3289 - accuracy: 0.9164\n",
            "Epoch 22/100\n",
            "782/782 [==============================] - 6s 7ms/step - loss: 0.3344 - accuracy: 0.9144\n",
            "Epoch 23/100\n",
            "782/782 [==============================] - 5s 6ms/step - loss: 0.3296 - accuracy: 0.9170\n",
            "Epoch 24/100\n",
            "782/782 [==============================] - 4s 5ms/step - loss: 0.3306 - accuracy: 0.9155\n",
            "Epoch 25/100\n",
            "782/782 [==============================] - 5s 6ms/step - loss: 0.3323 - accuracy: 0.9140\n",
            "Epoch 26/100\n",
            "782/782 [==============================] - 4s 6ms/step - loss: 0.3287 - accuracy: 0.9161\n",
            "Epoch 27/100\n",
            "782/782 [==============================] - 4s 5ms/step - loss: 0.3268 - accuracy: 0.9163\n",
            "Epoch 28/100\n",
            "782/782 [==============================] - 5s 6ms/step - loss: 0.3262 - accuracy: 0.9166\n",
            "Epoch 29/100\n",
            "782/782 [==============================] - 4s 5ms/step - loss: 0.3276 - accuracy: 0.9148\n",
            "Epoch 30/100\n",
            "782/782 [==============================] - 4s 5ms/step - loss: 0.3245 - accuracy: 0.9162\n",
            "Epoch 31/100\n",
            "782/782 [==============================] - 5s 6ms/step - loss: 0.3242 - accuracy: 0.9179\n",
            "Epoch 32/100\n",
            "782/782 [==============================] - 4s 5ms/step - loss: 0.3207 - accuracy: 0.9182\n",
            "Epoch 33/100\n",
            "782/782 [==============================] - 4s 5ms/step - loss: 0.3196 - accuracy: 0.9191\n",
            "Epoch 34/100\n",
            "782/782 [==============================] - 5s 6ms/step - loss: 0.3213 - accuracy: 0.9172\n",
            "Epoch 35/100\n",
            "782/782 [==============================] - 4s 5ms/step - loss: 0.3223 - accuracy: 0.9173\n",
            "Epoch 36/100\n",
            "782/782 [==============================] - 4s 5ms/step - loss: 0.3178 - accuracy: 0.9191\n",
            "Epoch 37/100\n",
            "782/782 [==============================] - 5s 6ms/step - loss: 0.3199 - accuracy: 0.9165\n",
            "Epoch 38/100\n",
            "782/782 [==============================] - 4s 5ms/step - loss: 0.3195 - accuracy: 0.9168\n",
            "Epoch 39/100\n",
            "782/782 [==============================] - 4s 5ms/step - loss: 0.3132 - accuracy: 0.9187\n",
            "Epoch 40/100\n",
            "782/782 [==============================] - 5s 6ms/step - loss: 0.3183 - accuracy: 0.9179\n",
            "Epoch 41/100\n",
            "782/782 [==============================] - 4s 5ms/step - loss: 0.3164 - accuracy: 0.9177\n",
            "Epoch 42/100\n",
            "782/782 [==============================] - 4s 5ms/step - loss: 0.3153 - accuracy: 0.9174\n",
            "Epoch 43/100\n",
            "782/782 [==============================] - 4s 6ms/step - loss: 0.3148 - accuracy: 0.9166\n",
            "Epoch 44/100\n",
            "782/782 [==============================] - 4s 5ms/step - loss: 0.3158 - accuracy: 0.9180\n",
            "Epoch 45/100\n",
            "782/782 [==============================] - 4s 5ms/step - loss: 0.3107 - accuracy: 0.9185\n",
            "Epoch 46/100\n",
            "782/782 [==============================] - 4s 6ms/step - loss: 0.3137 - accuracy: 0.9185\n",
            "Epoch 47/100\n",
            "782/782 [==============================] - 4s 5ms/step - loss: 0.3137 - accuracy: 0.9184\n",
            "Epoch 48/100\n",
            "782/782 [==============================] - 4s 5ms/step - loss: 0.3108 - accuracy: 0.9194\n",
            "Epoch 49/100\n",
            "782/782 [==============================] - 4s 5ms/step - loss: 0.3110 - accuracy: 0.9190\n",
            "Epoch 50/100\n",
            "782/782 [==============================] - 4s 5ms/step - loss: 0.3101 - accuracy: 0.9200\n",
            "Epoch 51/100\n",
            "782/782 [==============================] - 4s 6ms/step - loss: 0.3117 - accuracy: 0.9197\n",
            "Epoch 52/100\n",
            "782/782 [==============================] - 4s 6ms/step - loss: 0.3123 - accuracy: 0.9197\n",
            "Epoch 53/100\n",
            "782/782 [==============================] - 4s 5ms/step - loss: 0.3075 - accuracy: 0.9203\n",
            "Epoch 54/100\n",
            "782/782 [==============================] - 5s 6ms/step - loss: 0.3097 - accuracy: 0.9208\n",
            "Epoch 55/100\n",
            "782/782 [==============================] - 4s 5ms/step - loss: 0.3081 - accuracy: 0.9209\n",
            "Epoch 56/100\n",
            "782/782 [==============================] - 4s 5ms/step - loss: 0.3108 - accuracy: 0.9192\n",
            "Epoch 57/100\n",
            "782/782 [==============================] - 4s 6ms/step - loss: 0.3128 - accuracy: 0.9174\n",
            "Epoch 58/100\n",
            "782/782 [==============================] - 4s 5ms/step - loss: 0.3092 - accuracy: 0.9187\n",
            "Epoch 59/100\n",
            "782/782 [==============================] - 4s 5ms/step - loss: 0.3078 - accuracy: 0.9202\n",
            "Epoch 60/100\n",
            "782/782 [==============================] - 5s 6ms/step - loss: 0.3073 - accuracy: 0.9198\n",
            "Epoch 61/100\n",
            "782/782 [==============================] - 4s 5ms/step - loss: 0.3063 - accuracy: 0.9213\n",
            "Epoch 62/100\n",
            "782/782 [==============================] - 4s 5ms/step - loss: 0.3031 - accuracy: 0.9220\n",
            "Epoch 63/100\n",
            "782/782 [==============================] - 5s 6ms/step - loss: 0.3050 - accuracy: 0.9202\n",
            "Epoch 64/100\n",
            "782/782 [==============================] - 4s 6ms/step - loss: 0.3052 - accuracy: 0.9214\n",
            "Epoch 65/100\n",
            "782/782 [==============================] - 5s 6ms/step - loss: 0.3051 - accuracy: 0.9211\n",
            "Epoch 66/100\n",
            "782/782 [==============================] - 6s 8ms/step - loss: 0.3042 - accuracy: 0.9207\n",
            "Epoch 67/100\n",
            "782/782 [==============================] - 4s 6ms/step - loss: 0.3035 - accuracy: 0.9203\n",
            "Epoch 68/100\n",
            "782/782 [==============================] - 4s 6ms/step - loss: 0.3025 - accuracy: 0.9208\n",
            "Epoch 69/100\n",
            "782/782 [==============================] - 5s 6ms/step - loss: 0.3044 - accuracy: 0.9189\n",
            "Epoch 70/100\n",
            "782/782 [==============================] - 4s 5ms/step - loss: 0.3000 - accuracy: 0.9217\n",
            "Epoch 71/100\n",
            "782/782 [==============================] - 5s 6ms/step - loss: 0.3012 - accuracy: 0.9207\n",
            "Epoch 72/100\n",
            "782/782 [==============================] - 5s 6ms/step - loss: 0.3008 - accuracy: 0.9214\n",
            "Epoch 73/100\n",
            "782/782 [==============================] - 4s 5ms/step - loss: 0.3039 - accuracy: 0.9194\n",
            "Epoch 74/100\n",
            "782/782 [==============================] - 5s 6ms/step - loss: 0.2992 - accuracy: 0.9226\n",
            "Epoch 75/100\n",
            "782/782 [==============================] - 4s 6ms/step - loss: 0.3030 - accuracy: 0.9206\n",
            "Epoch 76/100\n",
            "782/782 [==============================] - 4s 5ms/step - loss: 0.3016 - accuracy: 0.9206\n",
            "Epoch 77/100\n",
            "782/782 [==============================] - 5s 6ms/step - loss: 0.3013 - accuracy: 0.9205\n",
            "Epoch 78/100\n",
            "782/782 [==============================] - 4s 5ms/step - loss: 0.3027 - accuracy: 0.9197\n",
            "Epoch 79/100\n",
            "782/782 [==============================] - 4s 5ms/step - loss: 0.2989 - accuracy: 0.9210\n",
            "Epoch 80/100\n",
            "782/782 [==============================] - 5s 6ms/step - loss: 0.2977 - accuracy: 0.9230\n",
            "Epoch 81/100\n",
            "782/782 [==============================] - 4s 5ms/step - loss: 0.3002 - accuracy: 0.9209\n",
            "Epoch 82/100\n",
            "782/782 [==============================] - 4s 6ms/step - loss: 0.3008 - accuracy: 0.9204\n",
            "Epoch 83/100\n",
            "782/782 [==============================] - 4s 6ms/step - loss: 0.2987 - accuracy: 0.9219\n",
            "Epoch 84/100\n",
            "782/782 [==============================] - 4s 5ms/step - loss: 0.2946 - accuracy: 0.9230\n",
            "Epoch 85/100\n",
            "782/782 [==============================] - 5s 6ms/step - loss: 0.2974 - accuracy: 0.9226\n",
            "Epoch 86/100\n",
            "782/782 [==============================] - 4s 6ms/step - loss: 0.2944 - accuracy: 0.9233\n",
            "Epoch 87/100\n",
            "782/782 [==============================] - 4s 5ms/step - loss: 0.2938 - accuracy: 0.9231\n",
            "Epoch 88/100\n",
            "782/782 [==============================] - 5s 6ms/step - loss: 0.2931 - accuracy: 0.9230\n",
            "Epoch 89/100\n",
            "782/782 [==============================] - 4s 5ms/step - loss: 0.2960 - accuracy: 0.9221\n",
            "Epoch 90/100\n",
            "782/782 [==============================] - 4s 5ms/step - loss: 0.2954 - accuracy: 0.9218\n",
            "Epoch 91/100\n",
            "782/782 [==============================] - 4s 6ms/step - loss: 0.2943 - accuracy: 0.9220\n",
            "Epoch 92/100\n",
            "782/782 [==============================] - 4s 5ms/step - loss: 0.2970 - accuracy: 0.9204\n",
            "Epoch 93/100\n",
            "782/782 [==============================] - 4s 5ms/step - loss: 0.2935 - accuracy: 0.9219\n",
            "Epoch 94/100\n",
            "782/782 [==============================] - 4s 6ms/step - loss: 0.2918 - accuracy: 0.9224\n",
            "Epoch 95/100\n",
            "782/782 [==============================] - 4s 6ms/step - loss: 0.2931 - accuracy: 0.9233\n",
            "Epoch 96/100\n",
            "782/782 [==============================] - 4s 6ms/step - loss: 0.2934 - accuracy: 0.9231\n",
            "Epoch 97/100\n",
            "782/782 [==============================] - 4s 5ms/step - loss: 0.2930 - accuracy: 0.9226\n",
            "Epoch 98/100\n",
            "782/782 [==============================] - 4s 5ms/step - loss: 0.2926 - accuracy: 0.9240\n",
            "Epoch 99/100\n",
            "782/782 [==============================] - 5s 6ms/step - loss: 0.2923 - accuracy: 0.9225\n",
            "Epoch 100/100\n",
            "782/782 [==============================] - 4s 5ms/step - loss: 0.2896 - accuracy: 0.9236\n"
          ]
        },
        {
          "output_type": "execute_result",
          "data": {
            "text/plain": [
              "<keras.src.callbacks.History at 0x7ebd2abec2e0>"
            ]
          },
          "metadata": {},
          "execution_count": 35
        }
      ]
    },
    {
      "cell_type": "code",
      "source": [
        "cnn.evaluate(X_test, Y_test)\n"
      ],
      "metadata": {
        "colab": {
          "base_uri": "https://localhost:8080/"
        },
        "id": "EpuObc65a-_Y",
        "outputId": "46c8d8f0-d530-4bb7-e4cb-e55e85c5e0dc"
      },
      "execution_count": 36,
      "outputs": [
        {
          "output_type": "stream",
          "name": "stdout",
          "text": [
            "313/313 [==============================] - 1s 4ms/step - loss: 1.0849 - accuracy: 0.7829\n"
          ]
        },
        {
          "output_type": "execute_result",
          "data": {
            "text/plain": [
              "[1.0848784446716309, 0.7828999757766724]"
            ]
          },
          "metadata": {},
          "execution_count": 36
        }
      ]
    },
    {
      "cell_type": "markdown",
      "source": [
        "# little overfit"
      ],
      "metadata": {
        "id": "8hjM3tm_BXKk"
      }
    },
    {
      "cell_type": "code",
      "source": [],
      "metadata": {
        "id": "GJ7U1ROoBbBZ"
      },
      "execution_count": null,
      "outputs": []
    }
  ]
}